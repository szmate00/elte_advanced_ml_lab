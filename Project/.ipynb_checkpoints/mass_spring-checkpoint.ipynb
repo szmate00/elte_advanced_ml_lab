{
 "cells": [
  {
   "cell_type": "code",
   "execution_count": 25,
   "metadata": {},
   "outputs": [],
   "source": [
    "import autograd.numpy as np\n",
    "from autograd import grad, elementwise_grad\n",
    "from scipy.integrate import solve_ivp\n",
    "import matplotlib.pyplot as plt\n",
    "import seaborn as sns\n",
    "import torch\n",
    "import torch.nn as nn\n",
    "import torch.nn.functional as F\n",
    "sns.set_style('whitegrid')"
   ]
  },
  {
   "cell_type": "markdown",
   "metadata": {},
   "source": [
    "# Harmonic Oscillator"
   ]
  },
  {
   "cell_type": "markdown",
   "metadata": {},
   "source": [
    "$$q=A\\cdot cos\\left(\\sqrt{\\frac{k}{m}}t+\\varphi\\right), \\hspace{0.5 cm} E=\\frac{m}{2}\\dot{q}^2+\\frac{k}{2}kq^2$$\n",
    "let $m=1$, $k=1$:\n",
    "$$q=Acos\\left(t\\right), \\hspace{0.5 cm} 2E=\\dot{q}^2+q^2$$\n",
    "$$p=m\\dot q=\\dot q$$\n",
    "$$2E=p^2+q^2$$\n",
    "which looks like an equation of a circle with radius: $r=\\sqrt{2E}$.<br>\n",
    "Different energies describe unique circles in phase space $(q, p)$<br>\n",
    "We should parameterize initial $q$ and $p$, so that: \n",
    "$$q=\\sqrt{2E}cos(t) \\hspace{0.5 cm} p=\\sqrt{2E}sin(t)$$\n",
    "satisfies equation for $E$."
   ]
  },
  {
   "cell_type": "code",
   "execution_count": 18,
   "metadata": {},
   "outputs": [],
   "source": [
    "# time\n",
    "T = np.sort(np.random.uniform(0, 20, 30))\n",
    "# energies\n",
    "energies = np.random.uniform(0.2, 1, 50)"
   ]
  },
  {
   "cell_type": "code",
   "execution_count": 19,
   "metadata": {},
   "outputs": [],
   "source": [
    "def hamiltonian(qp):\n",
    "    q = qp[0]\n",
    "    p = qp[1]\n",
    "    return 0.5 * p**2 + 0.5 * q**2"
   ]
  },
  {
   "cell_type": "code",
   "execution_count": 20,
   "metadata": {},
   "outputs": [],
   "source": [
    "def symplectic(t, qp):\n",
    "    nabla_h = grad(hamiltonian)(qp)\n",
    "    dhdq = nabla_h[0]\n",
    "    dhdp = nabla_h[1]\n",
    "    return [dhdp, -dhdq]    "
   ]
  },
  {
   "cell_type": "code",
   "execution_count": 21,
   "metadata": {},
   "outputs": [],
   "source": [
    "q = []\n",
    "p = []\n",
    "\n",
    "q_dot = []\n",
    "p_dot = []\n",
    "\n",
    "for E in energies:\n",
    "    t = np.random.uniform(0, 2)\n",
    "    q_init = np.sqrt(2 * E) * np.cos(t)\n",
    "    p_init = np.sqrt(2 * E) * np.sin(t)\n",
    "    y0 = [q_init, p_init]\n",
    "    \n",
    "    symplectic_ivp = solve_ivp(fun=symplectic, t_span=[0, 20], y0=y0, t_eval=np.sort(T))\n",
    "    q.append(symplectic_ivp['y'][0] + np.random.normal(0, 0.1, 30))\n",
    "    p.append(symplectic_ivp['y'][1] + np.random.normal(0, 0.1, 30))\n",
    "    \n",
    "    dots = np.array([np.array(symplectic(None, qp)) for qp in symplectic_ivp['y'].T])\n",
    "    q_dot.append(dots[:,0])\n",
    "    p_dot.append(dots[:,1])\n",
    "        \n",
    "q = np.array(q)\n",
    "p = np.array(p)\n",
    "\n",
    "q_dot = np.array(q_dot)\n",
    "p_dot = np.array(p_dot)"
   ]
  },
  {
   "cell_type": "code",
   "execution_count": 22,
   "metadata": {},
   "outputs": [
    {
     "data": {
      "text/plain": [
       "Text(0.5, 1.0, 'Generated phase space trajectory with added noise')"
      ]
     },
     "execution_count": 22,
     "metadata": {},
     "output_type": "execute_result"
    },
    {
     "data": {
      "image/png": "[encoded data removed]",
      "text/plain": [
       "<Figure size 432x432 with 1 Axes>"
      ]
     },
     "metadata": {},
     "output_type": "display_data"
    }
   ],
   "source": [
    "plt.figure(figsize=(6,6))\n",
    "plt.scatter(q[0], p[0], c=T)\n",
    "plt.xlabel('q', size=15)\n",
    "plt.ylabel('p', size=15)\n",
    "plt.title('Generated phase space trajectory with added noise', size=18)"
   ]
  },
  {
   "cell_type": "code",
   "execution_count": 51,
   "metadata": {},
   "outputs": [],
   "source": [
    "X = np.stack((q, p), axis=-1)"
   ]
  },
  {
   "cell_type": "code",
   "execution_count": 57,
   "metadata": {},
   "outputs": [
    {
     "data": {
      "text/plain": [
       "array([[ 0.8390719 ,  0.65297886],\n",
       "       [ 0.9294985 ,  0.10421722],\n",
       "       [ 0.33961648, -0.81131529],\n",
       "       [-0.12878815, -1.05074229],\n",
       "       [-0.58245082, -0.6047669 ],\n",
       "       [-0.80710271, -0.08949761],\n",
       "       [-0.28390552,  0.84446806],\n",
       "       [ 0.3890042 ,  0.79013792],\n",
       "       [ 0.96781919,  0.5243216 ],\n",
       "       [ 0.69825004, -0.78089147]])"
      ]
     },
     "execution_count": 57,
     "metadata": {},
     "output_type": "execute_result"
    }
   ],
   "source": [
    "X[0][:10]"
   ]
  },
  {
   "cell_type": "markdown",
   "metadata": {},
   "source": [
    "# Models"
   ]
  },
  {
   "cell_type": "code",
   "execution_count": null,
   "metadata": {},
   "outputs": [],
   "source": [
    "# baseline nn\n",
    "class MLP(nn.Module):\n",
    "    def __init__(self):\n",
    "        super(MLP, self).__init__()\n",
    "        \n",
    "        self.l1 = nn.Linear(2, 200)\n",
    "        self.l1 = nn.Linear(200, 200)\n",
    "        self.l1 = nn.Linear(200, 2)\n",
    "        \n",
    "    def forward(self, x):\n",
    "        x = nn.Tanh(self.l1(x))\n",
    "        x = nn.Tanh(self.l2(x))\n",
    "        out = nn.Tanh(self.l3(x))\n",
    "        \n",
    "        return out"
   ]
  }
 ],
 "metadata": {
  "kernelspec": {
   "display_name": "Python 3",
   "language": "python",
   "name": "python3"
  },
  "language_info": {
   "codemirror_mode": {
    "name": "ipython",
    "version": 3
   },
   "file_extension": ".py",
   "mimetype": "text/x-python",
   "name": "python",
   "nbconvert_exporter": "python",
   "pygments_lexer": "ipython3",
   "version": "3.8.5"
  }
 },
 "nbformat": 4,
 "nbformat_minor": 4
}
