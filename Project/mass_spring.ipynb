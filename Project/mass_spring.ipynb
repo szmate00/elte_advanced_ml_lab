{
 "cells": [
  {
   "cell_type": "code",
   "execution_count": 1,
   "metadata": {},
   "outputs": [],
   "source": [
    "import autograd.numpy as np\n",
    "from autograd import grad, elementwise_grad\n",
    "from scipy.integrate import solve_ivp\n",
    "import matplotlib.pyplot as plt\n",
    "import seaborn as sns\n",
    "import torch\n",
    "import torch.nn as nn\n",
    "import torch.nn.functional as F\n",
    "sns.set_style('whitegrid')"
   ]
  },
  {
   "cell_type": "markdown",
   "metadata": {},
   "source": [
    "# Harmonic Oscillator"
   ]
  },
  {
   "cell_type": "markdown",
   "metadata": {},
   "source": [
    "$$q=A\\cdot cos\\left(\\sqrt{\\frac{k}{m}}t+\\varphi\\right), \\hspace{0.5 cm} E=\\frac{m}{2}\\dot{q}^2+\\frac{k}{2}kq^2$$\n",
    "let $m=1$, $k=1$:\n",
    "$$q=Acos\\left(t\\right), \\hspace{0.5 cm} 2E=\\dot{q}^2+q^2$$\n",
    "$$p=m\\dot q=\\dot q$$\n",
    "$$2E=p^2+q^2$$\n",
    "which looks like an equation of a circle with radius: $r=\\sqrt{2E}$.<br>\n",
    "Different energies describe unique circles in phase space $(q, p)$<br>\n",
    "We should parameterize initial $q$ and $p$, so that: \n",
    "$$q=\\sqrt{2E}cos(t) \\hspace{0.5 cm} p=\\sqrt{2E}sin(t)$$\n",
    "satisfies equation for $E$."
   ]
  },
  {
   "cell_type": "code",
   "execution_count": 2,
   "metadata": {},
   "outputs": [],
   "source": [
    "# time\n",
    "T = np.sort(np.random.uniform(0, 20, 30))\n",
    "# energies\n",
    "energies = np.random.uniform(0.2, 1, 50)"
   ]
  },
  {
   "cell_type": "code",
   "execution_count": 3,
   "metadata": {},
   "outputs": [],
   "source": [
    "def hamiltonian(qp):\n",
    "    q = qp[0]\n",
    "    p = qp[1]\n",
    "    return 0.5 * p**2 + 0.5 * q**2"
   ]
  },
  {
   "cell_type": "code",
   "execution_count": 4,
   "metadata": {},
   "outputs": [],
   "source": [
    "def symplectic(t, qp):\n",
    "    nabla_h = grad(hamiltonian)(qp)\n",
    "    dhdq = nabla_h[0]\n",
    "    dhdp = nabla_h[1]\n",
    "    return [dhdp, -dhdq]    "
   ]
  },
  {
   "cell_type": "code",
   "execution_count": 5,
   "metadata": {},
   "outputs": [],
   "source": [
    "q = []\n",
    "p = []\n",
    "\n",
    "q_dot = []\n",
    "p_dot = []\n",
    "\n",
    "for E in energies:\n",
    "    t = np.random.uniform(0, 2)\n",
    "    q_init = np.sqrt(2 * E) * np.cos(t)\n",
    "    p_init = np.sqrt(2 * E) * np.sin(t)\n",
    "    y0 = [q_init, p_init]\n",
    "    \n",
    "    symplectic_ivp = solve_ivp(fun=symplectic, t_span=[0, 20], y0=y0, t_eval=T)\n",
    "    q.append(symplectic_ivp['y'][0] + np.random.normal(0, 0.1, 30))\n",
    "    p.append(symplectic_ivp['y'][1] + np.random.normal(0, 0.1, 30))\n",
    "    \n",
    "    dots = np.array([np.array(symplectic(None, qp)) for qp in symplectic_ivp['y'].T])\n",
    "    q_dot.append(dots[:,0])\n",
    "    p_dot.append(dots[:,1])\n",
    "        \n",
    "q = np.array(q)\n",
    "p = np.array(p)\n",
    "\n",
    "q_dot = np.array(q_dot)\n",
    "p_dot = np.array(p_dot)"
   ]
  },
  {
   "cell_type": "code",
   "execution_count": 6,
   "metadata": {},
   "outputs": [
    {
     "data": {
      "text/plain": [
       "Text(0.5, 1.0, 'Generated phase space trajectory with added noise')"
      ]
     },
     "execution_count": 6,
     "metadata": {},
     "output_type": "execute_result"
    },
    {
     "data": {
      "image/png": "[encoded data removed]",
      "text/plain": [
       "<Figure size 432x432 with 1 Axes>"
      ]
     },
     "metadata": {},
     "output_type": "display_data"
    }
   ],
   "source": [
    "plt.figure(figsize=(6,6))\n",
    "\n",
    "plt.scatter(q[0], p[0], c=T)\n",
    "plt.xlabel('q', size=15)\n",
    "plt.ylabel('p', size=15)\n",
    "plt.title('Generated phase space trajectory with added noise', size=18)"
   ]
  },
  {
   "cell_type": "code",
   "execution_count": 7,
   "metadata": {},
   "outputs": [],
   "source": [
    "X = np.stack((q, p), axis=-1)\n",
    "y = np.stack((q_dot, p_dot), axis=-1)"
   ]
  },
  {
   "cell_type": "code",
   "execution_count": 8,
   "metadata": {},
   "outputs": [
    {
     "data": {
      "text/plain": [
       "torch.Size([50, 30, 2])"
      ]
     },
     "execution_count": 8,
     "metadata": {},
     "output_type": "execute_result"
    }
   ],
   "source": [
    "X = torch.Tensor(X)\n",
    "y = torch.Tensor(y)\n",
    "X.shape"
   ]
  },
  {
   "cell_type": "code",
   "execution_count": 9,
   "metadata": {},
   "outputs": [],
   "source": [
    "train_X, test_X = np.split(X, 2, axis=0)\n",
    "train_y, test_y = np.split(y, 2, axis=0)"
   ]
  },
  {
   "cell_type": "markdown",
   "metadata": {},
   "source": [
    "# Models"
   ]
  },
  {
   "cell_type": "code",
   "execution_count": 10,
   "metadata": {},
   "outputs": [],
   "source": [
    "class MLP(nn.Module):\n",
    "    def __init__(self):\n",
    "        super(MLP, self).__init__()\n",
    "        self.model = nn.Sequential(nn.Linear(2, 200),\n",
    "                                  nn.Tanh(),\n",
    "                                  nn.Linear(200, 200),\n",
    "                                  nn.Tanh(),\n",
    "                                  nn.Linear(200, 2))    \n",
    "        \n",
    "    def forward(self, x):\n",
    "        out = self.model(x)\n",
    "        \n",
    "        return out"
   ]
  },
  {
   "cell_type": "code",
   "execution_count": 11,
   "metadata": {},
   "outputs": [],
   "source": [
    "baseline = MLP()"
   ]
  },
  {
   "cell_type": "code",
   "execution_count": 12,
   "metadata": {},
   "outputs": [],
   "source": [
    "trainset = torch.utils.data.TensorDataset(train_X, train_y)\n",
    "\n",
    "trainloader = torch.utils.data.DataLoader(trainset, batch_size=25,\n",
    "                                          shuffle=True, num_workers=2)"
   ]
  },
  {
   "cell_type": "code",
   "execution_count": 13,
   "metadata": {},
   "outputs": [],
   "source": [
    "import torch.optim as optim\n",
    "\n",
    "criterion = nn.MSELoss()\n",
    "optimizer = optim.Adam(baseline.parameters(), lr=0.001)"
   ]
  },
  {
   "cell_type": "code",
   "execution_count": 14,
   "metadata": {},
   "outputs": [
    {
     "name": "stdout",
     "output_type": "stream",
     "text": [
      "Epoch: 0 | MSE Loss: 0.63701\n",
      "Epoch: 5 | MSE Loss: 0.05179\n",
      "Epoch: 10 | MSE Loss: 0.08580\n",
      "Epoch: 15 | MSE Loss: 0.01425\n",
      "Epoch: 20 | MSE Loss: 0.03931\n",
      "Epoch: 25 | MSE Loss: 0.01382\n",
      "Epoch: 30 | MSE Loss: 0.01479\n",
      "Epoch: 35 | MSE Loss: 0.01383\n",
      "Epoch: 40 | MSE Loss: 0.00934\n",
      "Epoch: 45 | MSE Loss: 0.01125\n",
      "Finished Training\n"
     ]
    }
   ],
   "source": [
    "for epoch in range(50):  # loop over the dataset multiple times\n",
    "\n",
    "    running_loss = 0.0\n",
    "    for i, data in enumerate(trainloader, 0):\n",
    "        # get the inputs; data is a list of [inputs, labels]\n",
    "        inputs, labels = data\n",
    "\n",
    "        # zero the parameter gradients\n",
    "        optimizer.zero_grad()\n",
    "\n",
    "        # forward + backward + optimize\n",
    "        outputs = baseline(inputs)\n",
    "        loss = criterion(outputs, labels)\n",
    "        loss.backward()\n",
    "        optimizer.step()\n",
    "\n",
    "        # print statistics\n",
    "        running_loss += loss.item()\n",
    "        if epoch % 5 == 0:\n",
    "            print('Epoch: %d | MSE Loss: %.5f' % (epoch, running_loss))\n",
    "            running_loss = 0.0\n",
    "            \n",
    "print('Finished Training')"
   ]
  }
 ],
 "metadata": {
  "kernelspec": {
   "display_name": "Python 3",
   "language": "python",
   "name": "python3"
  },
  "language_info": {
   "codemirror_mode": {
    "name": "ipython",
    "version": 3
   },
   "file_extension": ".py",
   "mimetype": "text/x-python",
   "name": "python",
   "nbconvert_exporter": "python",
   "pygments_lexer": "ipython3",
   "version": "3.8.5"
  }
 },
 "nbformat": 4,
 "nbformat_minor": 4
}
